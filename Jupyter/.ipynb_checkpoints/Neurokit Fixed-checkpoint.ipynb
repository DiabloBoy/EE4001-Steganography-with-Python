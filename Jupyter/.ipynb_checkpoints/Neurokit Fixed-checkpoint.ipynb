{
 "cells": [
  {
   "cell_type": "code",
   "execution_count": null,
   "metadata": {},
   "outputs": [],
   "source": [
    "\n",
    "import neurokit as nk\n",
    "import pandas as pd\n",
    "import numpy as np\n",
    "import seaborn as sns\n",
    "import matplotlib\n",
    "import sklearn.externals\n",
    "from sklearn.externals import joblib\n",
    "\n",
    "\n",
    "\n",
    "\n",
    "%matplotlib inline\n",
    "matplotlib.rcParams['figure.figsize'] = [14.0, 10.0]  \n",
    "sns.set_style(\"whitegrid\")  \n",
    "sns.set_palette(sns.color_palette(\"hls\"))  \n",
    "\n",
    "\n",
    "# Download data\n",
    "df = pd.read_csv(\"mitbih_test.csv\")\n",
    "# Plot it\n",
    "df.plot()\n",
    "\n",
    "#Process the signals\n",
    "#bio = nk.bio_process(ecg=df[\"ECG\"], rsp=df[\"RSP\"], eda=df[\"EDA\"], add=df[\"Photosensor\"], sampling_rate=100)\n",
    " #Plot the processed dataframe, normalizing all variables for viewing purpose\n",
    "#nk.z_score(bio[\"df\"]).plot()\n",
    "\n",
    "#pd.DataFrame(bio[\"ECG\"][\"Cardiac_Cycles\"]).plot(legend=False)  # Plot all the heart beats"
   ]
  },
  {
   "cell_type": "code",
   "execution_count": null,
   "metadata": {},
   "outputs": [],
   "source": []
  }
 ],
 "metadata": {
  "kernelspec": {
   "display_name": "Python 3",
   "language": "python",
   "name": "python3"
  },
  "language_info": {
   "codemirror_mode": {
    "name": "ipython",
    "version": 3
   },
   "file_extension": ".py",
   "mimetype": "text/x-python",
   "name": "python",
   "nbconvert_exporter": "python",
   "pygments_lexer": "ipython3",
   "version": "3.7.3"
  }
 },
 "nbformat": 4,
 "nbformat_minor": 2
}
