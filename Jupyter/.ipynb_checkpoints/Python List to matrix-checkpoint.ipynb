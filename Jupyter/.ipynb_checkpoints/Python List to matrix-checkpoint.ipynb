{
 "cells": [
  {
   "cell_type": "code",
   "execution_count": 30,
   "metadata": {},
   "outputs": [
    {
     "name": "stdout",
     "output_type": "stream",
     "text": [
      "[[0, 0, 0], [0, 1, 0], [1, 1, 0]]\n"
     ]
    }
   ],
   "source": [
    "list1 = ['1', '0', '1', '1', '0']\n",
    "\n",
    "num_list = []\n",
    "for j in range(0,5):\n",
    "    num_list.append(int(list1[j]))\n",
    "    \n",
    "\n",
    "    \n",
    "i = 0\n",
    "while len(num_list) < 9:\n",
    "    num_list.insert(i,0)\n",
    "    i = i+ 1\n",
    " \n",
    "matrix = []\n",
    "\n",
    "while num_list != []: \n",
    "      matrix.append(num_list[:3])\n",
    "      num_list = num_list[3:] \n",
    "  \n",
    "print(matrix)\n",
    " "
   ]
  },
  {
   "cell_type": "code",
   "execution_count": null,
   "metadata": {},
   "outputs": [],
   "source": []
  },
  {
   "cell_type": "code",
   "execution_count": null,
   "metadata": {},
   "outputs": [],
   "source": []
  }
 ],
 "metadata": {
  "kernelspec": {
   "display_name": "Python 3",
   "language": "python",
   "name": "python3"
  }
 },
 "nbformat": 4,
 "nbformat_minor": 2
}
