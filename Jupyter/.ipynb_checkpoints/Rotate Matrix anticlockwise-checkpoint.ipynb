{
 "cells": [
  {
   "cell_type": "code",
   "execution_count": 11,
   "metadata": {},
   "outputs": [
    {
     "ename": "IndexError",
     "evalue": "list index out of range",
     "output_type": "error",
     "traceback": [
      "\u001b[1;31m---------------------------------------------------------------------------\u001b[0m",
      "\u001b[1;31mIndexError\u001b[0m                                Traceback (most recent call last)",
      "\u001b[1;32m<ipython-input-11-0e96844bd428>\u001b[0m in \u001b[0;36m<module>\u001b[1;34m\u001b[0m\n\u001b[0;32m     54\u001b[0m \u001b[1;33m\u001b[0m\u001b[0m\n\u001b[0;32m     55\u001b[0m \u001b[1;33m\u001b[0m\u001b[0m\n\u001b[1;32m---> 56\u001b[1;33m \u001b[0mrotateMatrix\u001b[0m\u001b[1;33m(\u001b[0m\u001b[0mmat\u001b[0m\u001b[1;33m)\u001b[0m\u001b[1;33m\u001b[0m\u001b[1;33m\u001b[0m\u001b[0m\n\u001b[0m\u001b[0;32m     57\u001b[0m \u001b[1;33m\u001b[0m\u001b[0m\n\u001b[0;32m     58\u001b[0m \u001b[1;31m# Print rotated matrix\u001b[0m\u001b[1;33m\u001b[0m\u001b[1;33m\u001b[0m\u001b[1;33m\u001b[0m\u001b[0m\n",
      "\u001b[1;32m<ipython-input-11-0e96844bd428>\u001b[0m in \u001b[0;36mrotateMatrix\u001b[1;34m(mat)\u001b[0m\n\u001b[0;32m     18\u001b[0m \u001b[1;33m\u001b[0m\u001b[0m\n\u001b[0;32m     19\u001b[0m                         \u001b[1;31m# move values from right to top\u001b[0m\u001b[1;33m\u001b[0m\u001b[1;33m\u001b[0m\u001b[1;33m\u001b[0m\u001b[0m\n\u001b[1;32m---> 20\u001b[1;33m                         \u001b[0mmat\u001b[0m\u001b[1;33m[\u001b[0m\u001b[0mx\u001b[0m\u001b[1;33m]\u001b[0m\u001b[1;33m[\u001b[0m\u001b[0my\u001b[0m\u001b[1;33m]\u001b[0m \u001b[1;33m=\u001b[0m \u001b[0mmat\u001b[0m\u001b[1;33m[\u001b[0m\u001b[0my\u001b[0m\u001b[1;33m]\u001b[0m\u001b[1;33m[\u001b[0m\u001b[0mN\u001b[0m\u001b[1;33m-\u001b[0m\u001b[1;36m1\u001b[0m\u001b[1;33m-\u001b[0m\u001b[0mx\u001b[0m\u001b[1;33m]\u001b[0m\u001b[1;33m\u001b[0m\u001b[1;33m\u001b[0m\u001b[0m\n\u001b[0m\u001b[0;32m     21\u001b[0m \u001b[1;33m\u001b[0m\u001b[0m\n\u001b[0;32m     22\u001b[0m                         \u001b[1;31m# move values from bottom to right\u001b[0m\u001b[1;33m\u001b[0m\u001b[1;33m\u001b[0m\u001b[1;33m\u001b[0m\u001b[0m\n",
      "\u001b[1;31mIndexError\u001b[0m: list index out of range"
     ]
    }
   ],
   "source": [
    "# Python3 program to rotate a matrix by 90 degrees \n",
    "N = 4\n",
    "\n",
    "# An Inplace function to rotate \n",
    "# N x N matrix by 90 degrees in \n",
    "# anti-clockwise direction \n",
    "def rotateMatrix(mat): \n",
    "\t\n",
    "\t# Consider all squares one by one \n",
    "\tfor x in range(0, int(N/2)): \n",
    "\t\t\n",
    "\t\t# Consider elements in group \n",
    "\t\t# of 4 in current square \n",
    "\t\tfor y in range(x, N-x-1): \n",
    "\t\t\t\n",
    "\t\t\t# store current cell in temp variable \n",
    "\t\t\ttemp = mat[x][y] \n",
    "\n",
    "\t\t\t# move values from right to top \n",
    "\t\t\tmat[x][y] = mat[y][N-1-x] \n",
    "\n",
    "\t\t\t# move values from bottom to right \n",
    "\t\t\tmat[y][N-1-x] = mat[N-1-x][N-1-y] \n",
    "\n",
    "\t\t\t# move values from left to bottom \n",
    "\t\t\tmat[N-1-x][N-1-y] = mat[N-1-y][x] \n",
    "\n",
    "\t\t\t# assign temp to left \n",
    "\t\t\tmat[N-1-y][x] = temp \n",
    "\n",
    "\n",
    "# Function to pr the matrix \n",
    "def displayMatrix( mat ): \n",
    "\t\n",
    "\tfor i in range(0, N): \n",
    "\t\t\n",
    "\t\tfor j in range(0, N): \n",
    "\t\t\t\n",
    "\t\t\tprint (mat[i][j], end = ' ') \n",
    "\t\tprint (\"\") \n",
    "\t\n",
    "\t\n",
    "\n",
    "\n",
    "# Driver Code \n",
    "mat = [[0 for x in range(N)] for y in range(N)] \n",
    "\n",
    "# Test case 1 \n",
    "mat = [ [1, 2, 3, 4 ], \n",
    "\t\t[5, 6, 7, 8 ], \n",
    "\t\t[9, 10, 11, 12 ], \n",
    "\t\t[13, 14, 15, 16 ] ] \n",
    "\t\t\n",
    "\n",
    "# Test case 2 \n",
    "mat = [ [1, 2, 3 ], \n",
    "\t\t[4, 5, 6 ], \n",
    "\t\t[7, 8, 9 ] ] \n",
    "\n",
    "# Test case 3 \n",
    "mat = [ [1, 2 ], \n",
    "\t\t[4, 5 ] ] \n",
    "\t\t\n",
    "'''\n",
    "\n",
    "rotateMatrix(mat) \n",
    "\n",
    "# Print rotated matrix \n",
    "displayMatrix(mat) \n",
    "\n",
    "\n",
    "# This code is contributed by saloni1297 \n",
    "\n"
   ]
  },
  {
   "cell_type": "code",
   "execution_count": null,
   "metadata": {},
   "outputs": [],
   "source": []
  },
  {
   "cell_type": "code",
   "execution_count": null,
   "metadata": {},
   "outputs": [],
   "source": []
  }
 ],
 "metadata": {
  "kernelspec": {
   "display_name": "Python 3",
   "language": "python",
   "name": "python3"
  },
  "language_info": {
   "codemirror_mode": {
    "name": "ipython",
    "version": 3
   },
   "file_extension": ".py",
   "mimetype": "text/x-python",
   "name": "python",
   "nbconvert_exporter": "python",
   "pygments_lexer": "ipython3",
   "version": "3.7.3"
  }
 },
 "nbformat": 4,
 "nbformat_minor": 2
}
