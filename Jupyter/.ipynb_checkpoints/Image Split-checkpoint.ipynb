{
 "cells": [
  {
   "cell_type": "code",
   "execution_count": 1,
   "metadata": {},
   "outputs": [],
   "source": [
    "# importing Image class from PIL package \n",
    "from PIL import Image \n",
    "\n",
    "# opening a multiband image (RGB specifically) \n",
    "im = Image.open(r\"My_algo_5000_Chars.jpg\") \n",
    "\n",
    "# split() method \n",
    "# this will split the image in individual bands \n",
    "# and return a tuple \n",
    "im1 = Image.Image.split(im) \n",
    "\n",
    "# showing each band \n",
    "im1[0].save(\"red_channel.jpg\")             #red\n",
    "im1[1].save(\"green_channel.jpg\")          #Green\n",
    "im1[2].save(\"blue_channel.jpg\")            #Blue\n"
   ]
  },
  {
   "cell_type": "code",
   "execution_count": null,
   "metadata": {},
   "outputs": [],
   "source": []
  }
 ],
 "metadata": {
  "kernelspec": {
   "display_name": "Python 3",
   "language": "python",
   "name": "python3"
  },
  "language_info": {
   "codemirror_mode": {
    "name": "ipython",
    "version": 3
   },
   "file_extension": ".py",
   "mimetype": "text/x-python",
   "name": "python",
   "nbconvert_exporter": "python",
   "pygments_lexer": "ipython3",
   "version": "3.7.3"
  }
 },
 "nbformat": 4,
 "nbformat_minor": 2
}
