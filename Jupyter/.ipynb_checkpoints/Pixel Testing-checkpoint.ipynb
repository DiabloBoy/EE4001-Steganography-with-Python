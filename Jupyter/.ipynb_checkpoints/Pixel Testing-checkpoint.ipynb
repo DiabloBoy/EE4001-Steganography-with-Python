{
 "cells": [
  {
   "cell_type": "code",
   "execution_count": 1,
   "metadata": {},
   "outputs": [
    {
     "name": "stdout",
     "output_type": "stream",
     "text": [
      "JPEG (502, 263) RGB\n"
     ]
    }
   ],
   "source": [
    "from PIL import Image\n",
    "import cv2\n",
    "import numpy as np\n",
    "\n",
    "\n",
    "#This is to test if the algo really works\n",
    "\n",
    "\n",
    "x = 10\n",
    "y = 10\n",
    "\n",
    "im = Image.open(\"cover.jpg\")\n",
    "\n",
    "value  = im.getpixel((x,y))\n",
    "\n",
    "value2 = im.getpixel((5,5))\n",
    "\n",
    "\n",
    "\n",
    "im.putpixel((x,y),(255,255,255))\n",
    "\n",
    "\n",
    "\n",
    "value3 = im.getpixel((x,y))\n",
    "value4 = im.getpixel((5,5))\n",
    "\n",
    "\n",
    "\n",
    "im.save(\"new_img.jpg\",\"JPEG\")\n",
    "\n",
    "print(im.format, im.size, im.mode)\n"
   ]
  },
  {
   "cell_type": "code",
   "execution_count": null,
   "metadata": {},
   "outputs": [],
   "source": []
  },
  {
   "cell_type": "code",
   "execution_count": null,
   "metadata": {},
   "outputs": [],
   "source": []
  },
  {
   "cell_type": "code",
   "execution_count": null,
   "metadata": {},
   "outputs": [],
   "source": []
  }
 ],
 "metadata": {
  "kernelspec": {
   "display_name": "Python 3",
   "language": "python",
   "name": "python3"
  },
  "language_info": {
   "codemirror_mode": {
    "name": "ipython",
    "version": 3
   },
   "file_extension": ".py",
   "mimetype": "text/x-python",
   "name": "python",
   "nbconvert_exporter": "python",
   "pygments_lexer": "ipython3",
   "version": "3.7.3"
  }
 },
 "nbformat": 4,
 "nbformat_minor": 2
}
