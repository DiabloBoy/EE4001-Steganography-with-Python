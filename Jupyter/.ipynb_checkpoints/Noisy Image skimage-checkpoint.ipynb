{
 "cells": [
  {
   "cell_type": "code",
   "execution_count": 12,
   "metadata": {},
   "outputs": [
    {
     "data": {
      "text/plain": [
       "<Figure size 1296x1728 with 0 Axes>"
      ]
     },
     "metadata": {},
     "output_type": "display_data"
    }
   ],
   "source": [
    "import skimage\n",
    "import matplotlib.pyplot as plt\n",
    "from skimage import io\n",
    "\n",
    "#img_path=\"https://i.guim.co.uk/img/media/4ddba561156645952502f7241bd1a64abd0e48a3/0_1251_3712_2225/master/3712.jpg?width=1920&quality=85&auto=format&fit=max&s=1280341b186f8352416517fc997cd7da\"\n",
    "#img = skimage.io.imread(img_path)/255.0\n",
    "\n",
    "img = skimage.io.imread(\"cover.jpg\")/255.0\n",
    "\n",
    "def plotnoise(img, mode, r, c, i):\n",
    "    plt.subplot(r,c,i)\n",
    "    if mode is not None:\n",
    "        gimg = skimage.util.random_noise(img, mode=mode)\n",
    "        plt.imshow(gimg)\n",
    "    else:\n",
    "        plt.imshow(img)\n",
    "    plt.title(mode)\n",
    "    plt.axis(\"off\")\n",
    "\n",
    "plt.figure(figsize=(18,24))\n",
    "\n",
    "\n",
    "r=4    #random seed\n",
    "c=2    # clipping\n",
    "# plotnoise(img, \"gaussian\", r,c,1)\n",
    "#plotnoise(img, \"localvar\", r,c,2)\n",
    "#plotnoise(img, \"poisson\", r,c,3)\n",
    "#plotnoise(img, \"salt\", r,c,4)\n",
    "#plotnoise(img, \"pepper\", r,c,5)\n",
    "#plotnoise(img, \"s&p\", r,c,1)\n",
    "#plotnoise(img, \"speckle\", r,c,7)\n",
    "#plotnoise(img, None, r,c,8)\n",
    "#plt.show()\n",
    "\n",
    "gimg = skimage.util.random_noise(img,\"s&p\")\n",
    "plt.imshow(gimg)"
   ]
  },
  {
   "cell_type": "code",
   "execution_count": null,
   "metadata": {},
   "outputs": [],
   "source": []
  },
  {
   "cell_type": "code",
   "execution_count": null,
   "metadata": {},
   "outputs": [],
   "source": []
  }
 ],
 "metadata": {
  "kernelspec": {
   "display_name": "Python 3",
   "language": "python",
   "name": "python3"
  },
  "language_info": {
   "codemirror_mode": {
    "name": "ipython",
    "version": 3
   },
   "file_extension": ".py",
   "mimetype": "text/x-python",
   "name": "python",
   "nbconvert_exporter": "python",
   "pygments_lexer": "ipython3",
   "version": "3.7.3"
  }
 },
 "nbformat": 4,
 "nbformat_minor": 2
}
