{
 "cells": [
  {
   "cell_type": "code",
   "execution_count": 4,
   "metadata": {},
   "outputs": [],
   "source": [
    "from PIL import Image, ImageDraw, ImageFont\n",
    "\n",
    "# get an image\n",
    "base = Image.open('lena.jpg').convert('RGBA')\n",
    "\n",
    "# make a blank image for the text, initialized to transparent text color\n",
    "txt = Image.new('RGBA', base.size, (255,255,255,0))\n",
    "\n",
    "# get a font\n",
    "fnt = ImageFont.truetype('FreeMono.ttf', 40)\n",
    "# get a drawing context\n",
    "d = ImageDraw.Draw(txt)\n",
    "\n",
    "# draw text, half opacity\n",
    "d.text((10,10), \"Hello\", font=fnt, fill=(255,255,255,255))\n",
    "# draw text, full opacity\n",
    "d.text((10,60), \"World\", font=fnt, fill=(255,255,255,255))\n",
    "\n",
    "out = Image.alpha_composite(base, txt)\n",
    "\n",
    "out.show()"
   ]
  },
  {
   "cell_type": "code",
   "execution_count": null,
   "metadata": {},
   "outputs": [],
   "source": []
  },
  {
   "cell_type": "code",
   "execution_count": null,
   "metadata": {},
   "outputs": [],
   "source": []
  }
 ],
 "metadata": {
  "kernelspec": {
   "display_name": "Python 3",
   "language": "python",
   "name": "python3"
  },
  "language_info": {
   "codemirror_mode": {
    "name": "ipython",
    "version": 3
   },
   "file_extension": ".py",
   "mimetype": "text/x-python",
   "name": "python",
   "nbconvert_exporter": "python",
   "pygments_lexer": "ipython3",
   "version": "3.7.3"
  }
 },
 "nbformat": 4,
 "nbformat_minor": 2
}
