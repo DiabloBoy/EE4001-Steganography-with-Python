{
 "cells": [
  {
   "cell_type": "code",
   "execution_count": 30,
   "metadata": {},
   "outputs": [
    {
     "name": "stdout",
     "output_type": "stream",
     "text": [
      "[[0, 0, 0], [0, 1, 0], [1, 1, 0]]\n"
     ]
    }
   ],
   "source": [
    "list1 = ['1', '0', '1', '1', '0']\n",
    "# converts to numbers\n",
    "num_list = []\n",
    "for j in range(0,5):\n",
    "    num_list.append(int(list1[j]))\n",
    "    \n",
    "\n",
    "#adds zero to the front    \n",
    "i = 0\n",
    "while len(num_list) < 9:\n",
    "    num_list.insert(i,0)\n",
    "    i = i + 1\n",
    " \n",
    "matrix = []\n",
    "\n",
    "while num_list != []: \n",
    "      matrix.append(num_list[:3])\n",
    "      num_list = num_list[3:] \n",
    "  \n",
    "print(matrix)\n",
    " "
   ]
  },
  {
   "cell_type": "code",
   "execution_count": null,
   "metadata": {},
   "outputs": [],
   "source": []
  },
  {
   "cell_type": "code",
   "execution_count": null,
   "metadata": {},
   "outputs": [],
   "source": []
  }
 ],
 "metadata": {
  "kernelspec": {
   "display_name": "Python 3",
   "language": "python",
   "name": "python3"
  },
  "language_info": {
   "codemirror_mode": {
    "name": "ipython",
    "version": 3
   },
   "file_extension": ".py",
   "mimetype": "text/x-python",
   "name": "python",
   "nbconvert_exporter": "python",
   "pygments_lexer": "ipython3",
   "version": "3.7.3"
  }
 },
 "nbformat": 4,
 "nbformat_minor": 2
}
