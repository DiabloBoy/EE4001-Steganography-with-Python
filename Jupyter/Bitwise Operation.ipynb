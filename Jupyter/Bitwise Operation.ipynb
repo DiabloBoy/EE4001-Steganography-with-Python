{
 "cells": [
  {
   "cell_type": "code",
   "execution_count": 2,
   "metadata": {},
   "outputs": [
    {
     "name": "stdout",
     "output_type": "stream",
     "text": [
      "165\n"
     ]
    }
   ],
   "source": [
    "# Some bytes to play with\n",
    "byte1 = int('11110000', 2)  # 240\n",
    "byte2 = int('00001111', 2)  # 15\n",
    "byte3 = int('01010101', 2)  # 85\n",
    "\n",
    "# Ones Complement (Flip the bits)\n",
    "#print(~byte1)\n",
    "\n",
    "# AND\n",
    "#print(byte1 & byte2)\n",
    "\n",
    "# OR\n",
    "#print(byte1 | byte2)\n",
    "\n",
    "# XOR\n",
    "print(byte1 ^ byte3)\n",
    "\n",
    "# Shifting right will lose the right-most bit\n",
    "#print(byte2 >> 3)\n",
    "\n",
    "# Shifting left will add a 0 bit on the right side\n",
    "#print(byte2 << 1)\n",
    "\n",
    "# See if a single bit is set\n",
    "bit_mask = int('00000001', 2)  # Bit 1\n",
    "#print(bit_mask & byte1)  # Is bit set in byte1?\n",
    "#print(bit_mask & byte2)  # Is bit set in byte2?"
   ]
  },
  {
   "cell_type": "code",
   "execution_count": null,
   "metadata": {},
   "outputs": [],
   "source": []
  },
  {
   "cell_type": "code",
   "execution_count": null,
   "metadata": {},
   "outputs": [],
   "source": []
  }
 ],
 "metadata": {
  "kernelspec": {
   "display_name": "Python 3",
   "language": "python",
   "name": "python3"
  },
  "language_info": {
   "codemirror_mode": {
    "name": "ipython",
    "version": 3
   },
   "file_extension": ".py",
   "mimetype": "text/x-python",
   "name": "python",
   "nbconvert_exporter": "python",
   "pygments_lexer": "ipython3",
   "version": "3.7.3"
  }
 },
 "nbformat": 4,
 "nbformat_minor": 2
}
