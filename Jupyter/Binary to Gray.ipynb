{
 "cells": [
  {
   "cell_type": "code",
   "execution_count": 6,
   "metadata": {},
   "outputs": [
    {
     "name": "stdout",
     "output_type": "stream",
     "text": [
      "Enter binary number: 0010110\n",
      "Gray codeword: 11101\n"
     ]
    }
   ],
   "source": [
    "def binary_to_gray(n):\n",
    "    \"\"\"Convert Binary to Gray codeword and return it.\"\"\"\n",
    "    n = int(n, 2) # convert to int\n",
    "    n ^= (n >> 1)\n",
    " \n",
    "    # bin(n) returns n's binary representation with a '0b' prefixed\n",
    "    # the slice operation is to remove the prefix\n",
    "    return bin(n)[2:]\n",
    " \n",
    " \n",
    "g = input('Enter binary number: ')\n",
    "b = binary_to_gray(g)\n",
    "print('Gray codeword:', b)"
   ]
  },
  {
   "cell_type": "code",
   "execution_count": null,
   "metadata": {},
   "outputs": [],
   "source": []
  },
  {
   "cell_type": "code",
   "execution_count": null,
   "metadata": {},
   "outputs": [],
   "source": []
  },
  {
   "cell_type": "code",
   "execution_count": null,
   "metadata": {},
   "outputs": [],
   "source": []
  },
  {
   "cell_type": "code",
   "execution_count": null,
   "metadata": {},
   "outputs": [],
   "source": []
  },
  {
   "cell_type": "code",
   "execution_count": null,
   "metadata": {},
   "outputs": [],
   "source": []
  }
 ],
 "metadata": {
  "kernelspec": {
   "display_name": "Python 3",
   "language": "python",
   "name": "python3"
  },
  "language_info": {
   "codemirror_mode": {
    "name": "ipython",
    "version": 3
   },
   "file_extension": ".py",
   "mimetype": "text/x-python",
   "name": "python",
   "nbconvert_exporter": "python",
   "pygments_lexer": "ipython3",
   "version": "3.7.3"
  }
 },
 "nbformat": 4,
 "nbformat_minor": 2
}
