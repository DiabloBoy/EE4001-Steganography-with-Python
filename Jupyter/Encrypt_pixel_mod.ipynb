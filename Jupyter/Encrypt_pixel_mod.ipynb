{
 "cells": [
  {
   "cell_type": "code",
   "execution_count": 10,
   "metadata": {},
   "outputs": [],
   "source": [
    "def encrypt_pixel_mod(msg,position,key_matrix,coords,im):\n",
    "    \n",
    "    coords_list = []\n",
    "    tuple_list =  []\n",
    "    rotation_list = []\n",
    "    correct_list = []\n",
    "    first_char_matrix =[]\n",
    "    \n",
    "    \n",
    "    #position is now a list of integers\n",
    "    #coords is now a list of coords\n",
    "    # Rotation is a list of integers\n",
    "   \n",
    "    matrix_list = char_list_gen(msg,position)\n",
    "    \n",
    "    \n",
    "    \n",
    "    for i in range(len(msg)):\n",
    "        if (matrix_list[i][0][0] == 0):\n",
    "            n,correct = checker(i[0][0][0])\n",
    "        if(matrix_list[i][0][0] == 1):\n",
    "            first_char_rotated = rotate90Clockwise(matrix_list[i][0][0])\n",
    "            n,correct = checker(first_char_rotated)\n",
    "            \n",
    "        rotation_list.append(n)\n",
    "        correct_list.append(correct)\n",
    "    \n",
    "    for i in range(len(msg)):\n",
    "        first_char_matrix.append(xor_matrix(correct[i],key_matrix))\n",
    "     \n",
    "    \n",
    "    for i in position:\n",
    "        if (i%3 == 0):\n",
    "            coords,my_tuple = encryption_1(im,first_char_matrix[i],coords[i],n)\n",
    "        if (i%3 == 1):\n",
    "            coords,my_tuple = encryption_2_mod(im,first_char_matrix,coords[i],n)\n",
    "        if (i%3 == 2):\n",
    "            coords,my_tuple = encryption_3(im,first_char_matrix,coords[i],n)\n",
    "        \n",
    "        coords_list.append(coords)\n",
    "        tuple_list.append(my_tuple)\n",
    "        \n",
    "    for i in range(len(msg)+1):\n",
    "        im.putpixel(coords_list[i],tuple_list[i])\n",
    "\n",
    "    return im.save(\"stego_proper.jpg\")\n"
   ]
  },
  {
   "cell_type": "code",
   "execution_count": null,
   "metadata": {},
   "outputs": [],
   "source": []
  },
  {
   "cell_type": "code",
   "execution_count": null,
   "metadata": {},
   "outputs": [],
   "source": []
  }
 ],
 "metadata": {
  "kernelspec": {
   "display_name": "Python 3",
   "language": "python",
   "name": "python3"
  },
  "language_info": {
   "codemirror_mode": {
    "name": "ipython",
    "version": 3
   },
   "file_extension": ".py",
   "mimetype": "text/x-python",
   "name": "python",
   "nbconvert_exporter": "python",
   "pygments_lexer": "ipython3",
   "version": "3.7.3"
  }
 },
 "nbformat": 4,
 "nbformat_minor": 2
}
