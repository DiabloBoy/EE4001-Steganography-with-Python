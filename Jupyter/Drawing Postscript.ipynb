{
 "cells": [
  {
   "cell_type": "code",
   "execution_count": 1,
   "metadata": {},
   "outputs": [
    {
     "name": "stdout",
     "output_type": "stream",
     "text": [
      "%!PS-Adobe-3.0\n",
      "save\n",
      "/showpage { } def\n",
      "%%EndComments\n",
      "%%BeginDocument\n",
      "/S { show } bind def\n",
      "/P { moveto show } bind def\n",
      "/M { moveto } bind def\n",
      "/X { 0 rmoveto } bind def\n",
      "/Y { 0 exch rmoveto } bind def\n",
      "/E {    findfont\n",
      "        dup maxlength dict begin\n",
      "        {\n",
      "                1 index /FID ne { def } { pop pop } ifelse\n",
      "        } forall\n",
      "        /Encoding exch def\n",
      "        dup /FontName exch def\n",
      "        currentdict end definefont pop\n",
      "} bind def\n",
      "/F {    findfont exch scalefont dup setfont\n",
      "        [ exch /setfont cvx ] cvx bind def\n",
      "} bind def\n",
      "/Vm { moveto } bind def\n",
      "/Va { newpath arcn stroke } bind def\n",
      "/Vl { moveto lineto stroke } bind def\n",
      "/Vc { newpath 0 360 arc closepath } bind def\n",
      "/Vr {   exch dup 0 rlineto\n",
      "        exch dup neg 0 exch rlineto\n",
      "        exch neg 0 rlineto\n",
      "        0 exch rlineto\n",
      "        100 div setgray fill 0 setgray } bind def\n",
      "/Tm matrix def\n",
      "/Ve {   Tm currentmatrix pop\n",
      "        translate scale newpath 0 0 .5 0 360 arc closepath\n",
      "        Tm setmatrix\n",
      "} bind def\n",
      "/Vf { currentgray exch setgray fill setgray } bind def\n",
      "%%EndProlog\n",
      "gsave\n",
      "72.000000 279.627907 translate\n",
      "0.304440 0.304440 scale\n",
      "gsave\n",
      "10 dict begin\n",
      "/buf 4257 string def\n",
      "1419 1001 scale\n",
      "1419 1001 8\n",
      "[1419 0 0 -1001 0 1001]\n",
      "{ currentfile buf readhexstring pop } bind\n",
      "false 3 colorimage\n",
      "\n",
      "%%%%EndBinary\n",
      "grestore end\n",
      "\n",
      "grestore\n",
      "72 144 M 504 720 0 Vr\n",
      "/PSDraw-HelveticaNarrow-Bold ISOLatin1Encoding /HelveticaNarrow-Bold E\n",
      "/F0 36 /PSDraw-HelveticaNarrow-Bold F\n",
      "216 288 M (marbles) S\n",
      "%%EndDocument\n",
      "restore showpage\n",
      "%%End\n"
     ]
    }
   ],
   "source": [
    "from PIL import Image\n",
    "from PIL import PSDraw\n",
    "\n",
    "im = Image.open(\"marbles.ppm\")\n",
    "title = \"marbles\"\n",
    "box = (1*72, 2*72, 7*72, 10*72) # in points\n",
    "\n",
    "ps = PSDraw.PSDraw() # default is sys.stdout\n",
    "ps.begin_document(title)\n",
    "\n",
    "# draw the image (75 dpi)\n",
    "ps.image(box, im, 75)\n",
    "ps.rectangle(box)\n",
    "\n",
    "# draw title\n",
    "ps.setfont(\"HelveticaNarrow-Bold\", 36)\n",
    "ps.text((3*72, 4*72), title)\n",
    "\n",
    "ps.end_document()"
   ]
  },
  {
   "cell_type": "code",
   "execution_count": null,
   "metadata": {},
   "outputs": [],
   "source": []
  }
 ],
 "metadata": {
  "kernelspec": {
   "display_name": "Python 3",
   "language": "python",
   "name": "python3"
  },
  "language_info": {
   "codemirror_mode": {
    "name": "ipython",
    "version": 3
   },
   "file_extension": ".py",
   "mimetype": "text/x-python",
   "name": "python",
   "nbconvert_exporter": "python",
   "pygments_lexer": "ipython3",
   "version": "3.7.3"
  }
 },
 "nbformat": 4,
 "nbformat_minor": 2
}
