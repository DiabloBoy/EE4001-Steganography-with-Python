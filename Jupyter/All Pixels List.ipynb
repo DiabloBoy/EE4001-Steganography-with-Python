{
 "cells": [
  {
   "cell_type": "code",
   "execution_count": 24,
   "metadata": {},
   "outputs": [
    {
     "name": "stdout",
     "output_type": "stream",
     "text": [
      "1000\n"
     ]
    }
   ],
   "source": [
    "from PIL import Image\n",
    "im = Image.open(\"cover.jpg\")\n",
    "\n",
    "\n",
    "#width, height = im.size\n",
    "\n",
    "#new_list = []\n",
    "#list_x = []\n",
    "#list_y = []\n",
    "\n",
    "#for y in range(height):\n",
    "    #for x in range(width):\n",
    "       \n",
    "       #list_x.append(x)\n",
    "       #list_y.append(y)\n",
    "    \n",
    "    \n",
    "#coords_tuple = list(zip(list_x,list_y))    \n",
    "\n",
    "\n",
    "\n",
    "def coords_generator(im):\n",
    "    new_list = []\n",
    "    width, height = im.size\n",
    "   \n",
    "    list_x = []\n",
    "    list_y = []\n",
    "    for y in range(height):\n",
    "        for x in range(width):\n",
    "            r,g,b = im.getpixel((x,y))\n",
    "            list_x.append(x)\n",
    "            list_y.append(y)\n",
    "            \n",
    "    coords_tuple = list(zip(list_x,list_y))\n",
    "    \n",
    "    for i in range(0,1000):\n",
    "        new_list.append(coords_tuple[i])\n",
    "\n",
    "\n",
    "    return new_list\n",
    "    \n",
    "value = coords_generator(im)       \n",
    "   \n",
    "\n",
    "print(len(value))\n",
    "\n",
    "\n",
    "#for i in range(0,1000):\n",
    "    #new_list.append(coords_tuple[i])\n",
    "    \n",
    "#print(new_list)\n"
   ]
  },
  {
   "cell_type": "code",
   "execution_count": null,
   "metadata": {},
   "outputs": [],
   "source": []
  },
  {
   "cell_type": "code",
   "execution_count": null,
   "metadata": {},
   "outputs": [],
   "source": []
  }
 ],
 "metadata": {
  "kernelspec": {
   "display_name": "Python 3",
   "language": "python",
   "name": "python3"
  },
  "language_info": {
   "codemirror_mode": {
    "name": "ipython",
    "version": 3
   },
   "file_extension": ".py",
   "mimetype": "text/x-python",
   "name": "python",
   "nbconvert_exporter": "python",
   "pygments_lexer": "ipython3",
   "version": "3.7.3"
  }
 },
 "nbformat": 4,
 "nbformat_minor": 2
}
